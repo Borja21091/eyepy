{
 "cells": [
  {
   "cell_type": "code",
   "execution_count": 1,
   "metadata": {},
   "outputs": [],
   "source": [
    "%load_ext autoreload\n",
    "%autoreload 2\n",
    "\n",
    "import matplotlib.pyplot as plt\n",
    "import numpy as np\n",
    "import eyepy as ep\n",
    "from eyepy.data import load\n",
    "import imageio.v2 as imageio\n",
    "import os"
   ]
  },
  {
   "cell_type": "code",
   "execution_count": 2,
   "metadata": {},
   "outputs": [
    {
     "data": {
      "text/plain": [
       "<eyepy.core.annotations.EyeVolumePixelAnnotation at 0x7f31f092bcd0>"
      ]
     },
     "execution_count": 2,
     "metadata": {},
     "output_type": "execute_result"
    }
   ],
   "source": [
    "\n",
    "ev = load(\"drusen_patient\")\n",
    "drusen_map = ep.drusen(ev.layers[\"RPE\"].data, ev.layers[\"BM\"].data, ev.shape, minimum_height=2)\n",
    "ev.add_pixel_annotation(drusen_map, name=\"drusen\")"
   ]
  },
  {
   "cell_type": "code",
   "execution_count": 3,
   "metadata": {},
   "outputs": [],
   "source": [
    "def plot(ev:ep.EyeVolume, bscan_index=None, bscan_region=np.s_[:,:], figsize=(10, 5), layers=False, areas=False):\n",
    "    if bscan_index is None:\n",
    "        bscan_index = ev.shape[0]//2\n",
    "\n",
    "    y_start = bscan_region[0].start if bscan_region[0].start is not None else 0\n",
    "    y_stop = bscan_region[0].stop if bscan_region[0].stop is not None else ev[bscan_index].shape[0]\n",
    "\n",
    "    x_start = bscan_region[1].start if bscan_region[1].start is not None else 0\n",
    "    x_stop = bscan_region[1].stop if bscan_region[1].stop is not None else ev[bscan_index].shape[1]\n",
    "\n",
    "    fig, axes = plt.subplots(1, 2, figsize=figsize, gridspec_kw={'width_ratios': [ev.localizer.shape[0]/ev.localizer.shape[1], (x_stop-x_start)/(y_stop-y_start)]})\n",
    "    ev.plot(axes[0], bscan_positions=[bscan_index], bscan_region=True, projections=areas, projection_kwargs={\"drusen\":{\"cbar\": False}})\n",
    "    ev[bscan_index].plot(axes[1], layers=layers, areas=areas, region=bscan_region)\n",
    "\n",
    "    axes[1].yaxis.tick_right()\n",
    "    axes[1].yaxis.set_label_position(\"right\")\n",
    "    \n",
    "    axes[0].margins(x=0, y=0, tight=True)\n",
    "    axes[1].margins(x=0, y=0, tight=True)\n",
    "    plt.gcf().tight_layout()\n",
    "    \n",
    "\n",
    "general = {\"bscan_region\": np.s_[100:350,:]}\n",
    "frames = []\n",
    "for i in range(0, 61, 10):\n",
    "    frames.append({\"bscan_index\": i})\n",
    "\n",
    "frames.append({\"bscan_index\": 60, \"layers\":[\"BM\", \"RPE\"]})\n",
    "frames.append({\"bscan_index\": 60, \"layers\":[\"BM\", \"RPE\"], \"areas\":[\"drusen\"]})\n",
    "\n",
    "filenames = []\n",
    "for i, frame in enumerate(frames):\n",
    "    plot(ev, **general, **frame)\n",
    "    for ax in plt.gcf().axes:\n",
    "        ax.axis('off')\n",
    "    #plt.gcf().set_facecolor(\"black\")\n",
    "    plt.savefig(f\"frame{i}.png\", dpi=300, facecolor=\"black\", edgecolor=\"black\", bbox_inches=\"tight\", pad_inches=0)\n",
    "    plt.close()\n",
    "    filenames.append(f\"frame{i}.png\")\n",
    "\n",
    "filenames = filenames + 10*[filenames[-1]]"
   ]
  },
  {
   "cell_type": "code",
   "execution_count": 4,
   "metadata": {},
   "outputs": [
    {
     "name": "stderr",
     "output_type": "stream",
     "text": [
      "/tmp/ipykernel_180696/1082892876.py:3: DeprecationWarning: Starting with ImageIO v3 the behavior of this function will switch to that of iio.v3.imread. To keep the current behavior (and make this warning disappear) use `import imageio.v2 as imageio` or call `imageio.v2.imread` directly.\n",
      "  image = imageio.imread(filename)\n"
     ]
    },
    {
     "data": {
      "text/html": [
       "\n",
       "        <style>\n",
       "            .support_message_main_box {\n",
       "                position: relative;\n",
       "                display: table-cell;\n",
       "                vertical-align: middle;\n",
       "                width: 100%;\n",
       "                height: 8em;\n",
       "                padding: 1em;\n",
       "                padding-left: 11em;\n",
       "                background-color: #f7f7f7;\n",
       "                border: 1px solid #cfcfcf;\n",
       "                border-radius: 2px;\n",
       "            }\n",
       "            .support_message_main_box img {\n",
       "                position: absolute;\n",
       "                height: 9em;\n",
       "                width: 9em;\n",
       "                left: 0.5em;\n",
       "                top: 0.5em;\n",
       "                border-radius: 1em;\n",
       "            }\n",
       "        </style>\n",
       "        <div class=\"support_message_main_box\">\n",
       "            <img src=\"https://avatars.githubusercontent.com/u/7738570?v=4\" />\n",
       "            <p>\n",
       "            <b>Hi!</b><br/>\n",
       "            <span>I am the author of\n",
       "            <a href=\"https://github.com/LucaCappelletti94/pygifsicle\" target=\"_blank\">\n",
       "                pygifsicle\n",
       "            </a>, which you use in this Notebook.\n",
       "            </span><br/>\n",
       "            \n",
       "            <span>I love to code, but I also need coffee.</span>\n",
       "            <a href=\"https://github.com/sponsors/LucaCappelletti94\" target=\"_blank\">\n",
       "                Please sponsor me on GitHub ❤️\n",
       "            </a><br/>\n",
       "            <i>Good luck in your coding 🍀!</i>\n",
       "            <br/>\n",
       "            <i>- Luca</i>\n",
       "            </p>\n",
       "        <div>\n",
       "        "
      ],
      "text/plain": [
       "<IPython.core.display.HTML object>"
      ]
     },
     "metadata": {},
     "output_type": "display_data"
    }
   ],
   "source": [
    "\n",
    "with imageio.get_writer('header.gif', mode='I', duration=1) as writer:\n",
    "    for filename in filenames:\n",
    "        image = imageio.imread(filename)\n",
    "        writer.append_data(image)\n",
    "\n",
    "        \n",
    "# Remove the temporary file\n",
    "for filename in set(filenames):\n",
    "    os.remove(filename)\n",
    "\n",
    "\n",
    "# This requires gifsicle to be installed\n",
    "from pygifsicle import optimize\n",
    "optimize(\"header.gif\")"
   ]
  }
 ],
 "metadata": {
  "kernelspec": {
   "display_name": "eyepie-VxnMa8-_-py3.10",
   "language": "python",
   "name": "python3"
  },
  "language_info": {
   "codemirror_mode": {
    "name": "ipython",
    "version": 3
   },
   "file_extension": ".py",
   "mimetype": "text/x-python",
   "name": "python",
   "nbconvert_exporter": "python",
   "pygments_lexer": "ipython3",
   "version": "3.10.6"
  },
  "orig_nbformat": 4,
  "vscode": {
   "interpreter": {
    "hash": "ff5d78abcf42f5b55825ebaf4728020a9813e5cba4aba8b0ce2f0a520aecca6c"
   }
  }
 },
 "nbformat": 4,
 "nbformat_minor": 2
}
